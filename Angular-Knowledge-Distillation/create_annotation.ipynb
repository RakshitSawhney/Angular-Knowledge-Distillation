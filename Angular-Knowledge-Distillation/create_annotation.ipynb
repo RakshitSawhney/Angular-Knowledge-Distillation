{
 "cells": [
  {
   "cell_type": "code",
   "execution_count": null,
   "metadata": {},
   "outputs": [],
   "source": [
    "import pandas as pd\n",
    "df = pd.DataFrame(columns = [\"image_path\",\"label\"])"
   ]
  },
  {
   "cell_type": "code",
   "execution_count": null,
   "metadata": {},
   "outputs": [],
   "source": [
    "import os\n",
    "import csv\n",
    "\n",
    "# Define the folder path where the files are located\n",
    "image_dir_path = os.path.join(os.getcwd(),\"Casia_dataset\" , \"Images\") \n",
    "labels_dir_path = os.path.join(os.getcwd(),\"Casia_dataset\" , \"Labels\") \n",
    "\n",
    "# Get a list of all files in the folder\n",
    "image_list = os.listdir(image_dir_path)\n",
    "labels_list = os.listdir(labels_dir_path)"
   ]
  },
  {
   "cell_type": "code",
   "execution_count": null,
   "metadata": {},
   "outputs": [],
   "source": [
    "images_path = []\n",
    "labels = []"
   ]
  },
  {
   "cell_type": "code",
   "execution_count": null,
   "metadata": {},
   "outputs": [],
   "source": [
    "import numpy as np\n",
    "for i,image in enumerate(image_list):\n",
    "    image_path = image \n",
    "    images_path.append(image_path)\n",
    "    image_num = image.split(\".\")[0]\n",
    "    label_path = labels_dir_path + \"\\\\\" + image_num + \"_label.npy\"\n",
    "    data = np.load(label_path)\n",
    "    labels.append(data[0])"
   ]
  },
  {
   "cell_type": "code",
   "execution_count": null,
   "metadata": {},
   "outputs": [],
   "source": [
    "df['image_path'] = np.array(images_path)\n",
    "df['label'] = np.array(labels)"
   ]
  },
  {
   "cell_type": "code",
   "execution_count": null,
   "metadata": {},
   "outputs": [],
   "source": [
    "df.to_csv(os.path.join(os.getcwd(),\"annotations4.csv\") ,index = False)"
   ]
  }
 ],
 "metadata": {
  "kernelspec": {
   "display_name": "pytorch",
   "language": "python",
   "name": "python3"
  },
  "language_info": {
   "codemirror_mode": {
    "name": "ipython",
    "version": 3
   },
   "file_extension": ".py",
   "mimetype": "text/x-python",
   "name": "python",
   "nbconvert_exporter": "python",
   "pygments_lexer": "ipython3",
   "version": "3.7.15"
  },
  "orig_nbformat": 4
 },
 "nbformat": 4,
 "nbformat_minor": 2
}
